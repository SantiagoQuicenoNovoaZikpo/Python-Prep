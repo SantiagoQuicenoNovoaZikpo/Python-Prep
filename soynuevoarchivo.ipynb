nombre = 'Sandro no escribe en el chat'
print_lista = 'lista'
alumno1 = 'alumno'